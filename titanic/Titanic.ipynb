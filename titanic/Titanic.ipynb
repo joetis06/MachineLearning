{
 "cells": [
  {
   "cell_type": "code",
   "execution_count": 1,
   "metadata": {},
   "outputs": [
    {
     "name": "stdout",
     "output_type": "stream",
     "text": [
      "<class 'pandas.core.frame.DataFrame'>\n",
      "Int64Index: 418 entries, 892 to 1309\n",
      "Data columns (total 6 columns):\n",
      " #   Column    Non-Null Count  Dtype  \n",
      "---  ------    --------------  -----  \n",
      " 0   Pclass    418 non-null    int64  \n",
      " 1   Sex       418 non-null    int8   \n",
      " 2   Age       418 non-null    float64\n",
      " 3   Parch     418 non-null    int64  \n",
      " 4   Fare      418 non-null    float64\n",
      " 5   Embarked  418 non-null    int8   \n",
      "dtypes: float64(2), int64(2), int8(2)\n",
      "memory usage: 17.1 KB\n"
     ]
    }
   ],
   "source": [
    "import pandas as pd\n",
    "import numpy as np\n",
    "import matplotlib.pyplot as plt\n",
    "\n",
    "train_data = pd.read_csv(\"train.csv\", index_col=0) \n",
    "test_data = pd.read_csv(\"test.csv\", index_col=0) \n",
    "\n",
    "\n",
    "def categorize_col(df, column):\n",
    "    col = df[column].astype('category')\n",
    "    return col.cat.codes\n",
    "\n",
    "def clean_data(df):\n",
    "    df = df.copy()\n",
    "    df = df.drop(columns=[\"Name\", \"Ticket\", \"Cabin\", \"SibSp\"])\n",
    "    df['Sex'] = categorize_col(df, 'Sex')\n",
    "    df['Embarked'] = categorize_col(df, 'Embarked')\n",
    "    df = df.fillna(method='ffill')\n",
    "    \n",
    "    return df\n",
    "\n",
    "titanic_train = clean_data(train_data)\n",
    "titanic_test = clean_data(test_data)\n",
    "\n",
    "titanic_test.info()"
   ]
  },
  {
   "cell_type": "code",
   "execution_count": 38,
   "metadata": {},
   "outputs": [],
   "source": [
    "from sklearn.svm import SVC\n",
    "from sklearn.preprocessing import MinMaxScaler\n",
    "\n",
    "X = titanic_train.loc[:, titanic_train.columns != 'Survived']\n",
    "\n",
    "y = titanic_train['Survived']\n",
    "\n",
    "scaler = MinMaxScaler()\n",
    "scaler.fit(X)\n",
    "X_scaled = scaler.transform(X)\n",
    "\n",
    "pred = SVC(kernel='rbf', C=100000, gamma=100000).fit(X_scaled, y)\n",
    "\n",
    "pred.score(X_scaled, y)\n",
    "\n",
    "x = pd.DataFrame(pred.predict(titanic_test), index=titanic_test.index)\n",
    "x.columns=[\"Survived\"]\n",
    "\n",
    "x.to_csv('predict.csv')"
   ]
  }
 ],
 "metadata": {
  "kernelspec": {
   "display_name": "Python 3",
   "language": "python",
   "name": "python3"
  },
  "language_info": {
   "codemirror_mode": {
    "name": "ipython",
    "version": 3
   },
   "file_extension": ".py",
   "mimetype": "text/x-python",
   "name": "python",
   "nbconvert_exporter": "python",
   "pygments_lexer": "ipython3",
   "version": "3.6.3"
  }
 },
 "nbformat": 4,
 "nbformat_minor": 4
}
