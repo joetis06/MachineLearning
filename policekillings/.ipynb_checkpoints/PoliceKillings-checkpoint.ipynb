{
 "cells": [
  {
   "cell_type": "code",
   "execution_count": 1,
   "metadata": {
    "ExecuteTime": {
     "end_time": "2020-08-11T18:55:14.103763Z",
     "start_time": "2020-08-11T18:55:13.083440Z"
    }
   },
   "outputs": [
    {
     "data": {
      "text/html": [
       "<div>\n",
       "<style scoped>\n",
       "    .dataframe tbody tr th:only-of-type {\n",
       "        vertical-align: middle;\n",
       "    }\n",
       "\n",
       "    .dataframe tbody tr th {\n",
       "        vertical-align: top;\n",
       "    }\n",
       "\n",
       "    .dataframe thead th {\n",
       "        text-align: right;\n",
       "    }\n",
       "</style>\n",
       "<table border=\"1\" class=\"dataframe\">\n",
       "  <thead>\n",
       "    <tr style=\"text-align: right;\">\n",
       "      <th></th>\n",
       "      <th>id</th>\n",
       "      <th>name</th>\n",
       "      <th>date</th>\n",
       "      <th>manner_of_death</th>\n",
       "      <th>armed</th>\n",
       "      <th>age</th>\n",
       "      <th>gender</th>\n",
       "      <th>race</th>\n",
       "      <th>city</th>\n",
       "      <th>state</th>\n",
       "      <th>signs_of_mental_illness</th>\n",
       "      <th>threat_level</th>\n",
       "      <th>flee</th>\n",
       "      <th>body_camera</th>\n",
       "      <th>arms_category</th>\n",
       "    </tr>\n",
       "  </thead>\n",
       "  <tbody>\n",
       "    <tr>\n",
       "      <th>0</th>\n",
       "      <td>3</td>\n",
       "      <td>Tim Elliot</td>\n",
       "      <td>2015-01-02</td>\n",
       "      <td>shot</td>\n",
       "      <td>gun</td>\n",
       "      <td>53.0</td>\n",
       "      <td>M</td>\n",
       "      <td>Asian</td>\n",
       "      <td>Shelton</td>\n",
       "      <td>WA</td>\n",
       "      <td>True</td>\n",
       "      <td>attack</td>\n",
       "      <td>Not fleeing</td>\n",
       "      <td>False</td>\n",
       "      <td>Guns</td>\n",
       "    </tr>\n",
       "    <tr>\n",
       "      <th>1</th>\n",
       "      <td>4</td>\n",
       "      <td>Lewis Lee Lembke</td>\n",
       "      <td>2015-01-02</td>\n",
       "      <td>shot</td>\n",
       "      <td>gun</td>\n",
       "      <td>47.0</td>\n",
       "      <td>M</td>\n",
       "      <td>White</td>\n",
       "      <td>Aloha</td>\n",
       "      <td>OR</td>\n",
       "      <td>False</td>\n",
       "      <td>attack</td>\n",
       "      <td>Not fleeing</td>\n",
       "      <td>False</td>\n",
       "      <td>Guns</td>\n",
       "    </tr>\n",
       "    <tr>\n",
       "      <th>2</th>\n",
       "      <td>5</td>\n",
       "      <td>John Paul Quintero</td>\n",
       "      <td>2015-01-03</td>\n",
       "      <td>shot and Tasered</td>\n",
       "      <td>unarmed</td>\n",
       "      <td>23.0</td>\n",
       "      <td>M</td>\n",
       "      <td>Hispanic</td>\n",
       "      <td>Wichita</td>\n",
       "      <td>KS</td>\n",
       "      <td>False</td>\n",
       "      <td>other</td>\n",
       "      <td>Not fleeing</td>\n",
       "      <td>False</td>\n",
       "      <td>Unarmed</td>\n",
       "    </tr>\n",
       "    <tr>\n",
       "      <th>3</th>\n",
       "      <td>8</td>\n",
       "      <td>Matthew Hoffman</td>\n",
       "      <td>2015-01-04</td>\n",
       "      <td>shot</td>\n",
       "      <td>toy weapon</td>\n",
       "      <td>32.0</td>\n",
       "      <td>M</td>\n",
       "      <td>White</td>\n",
       "      <td>San Francisco</td>\n",
       "      <td>CA</td>\n",
       "      <td>True</td>\n",
       "      <td>attack</td>\n",
       "      <td>Not fleeing</td>\n",
       "      <td>False</td>\n",
       "      <td>Other unusual objects</td>\n",
       "    </tr>\n",
       "    <tr>\n",
       "      <th>4</th>\n",
       "      <td>9</td>\n",
       "      <td>Michael Rodriguez</td>\n",
       "      <td>2015-01-04</td>\n",
       "      <td>shot</td>\n",
       "      <td>nail gun</td>\n",
       "      <td>39.0</td>\n",
       "      <td>M</td>\n",
       "      <td>Hispanic</td>\n",
       "      <td>Evans</td>\n",
       "      <td>CO</td>\n",
       "      <td>False</td>\n",
       "      <td>attack</td>\n",
       "      <td>Not fleeing</td>\n",
       "      <td>False</td>\n",
       "      <td>Piercing objects</td>\n",
       "    </tr>\n",
       "  </tbody>\n",
       "</table>\n",
       "</div>"
      ],
      "text/plain": [
       "   id                name        date   manner_of_death       armed   age  \\\n",
       "0   3          Tim Elliot  2015-01-02              shot         gun  53.0   \n",
       "1   4    Lewis Lee Lembke  2015-01-02              shot         gun  47.0   \n",
       "2   5  John Paul Quintero  2015-01-03  shot and Tasered     unarmed  23.0   \n",
       "3   8     Matthew Hoffman  2015-01-04              shot  toy weapon  32.0   \n",
       "4   9   Michael Rodriguez  2015-01-04              shot    nail gun  39.0   \n",
       "\n",
       "  gender      race           city state  signs_of_mental_illness threat_level  \\\n",
       "0      M     Asian        Shelton    WA                     True       attack   \n",
       "1      M     White          Aloha    OR                    False       attack   \n",
       "2      M  Hispanic        Wichita    KS                    False        other   \n",
       "3      M     White  San Francisco    CA                     True       attack   \n",
       "4      M  Hispanic          Evans    CO                    False       attack   \n",
       "\n",
       "          flee  body_camera          arms_category  \n",
       "0  Not fleeing        False                   Guns  \n",
       "1  Not fleeing        False                   Guns  \n",
       "2  Not fleeing        False                Unarmed  \n",
       "3  Not fleeing        False  Other unusual objects  \n",
       "4  Not fleeing        False       Piercing objects  "
      ]
     },
     "execution_count": 1,
     "metadata": {},
     "output_type": "execute_result"
    }
   ],
   "source": [
    "import pandas as pd\n",
    "import numpy as np\n",
    "import matplotlib.pyplot as plt\n",
    "from  matplotlib.ticker import PercentFormatter\n",
    "import seaborn as sns\n",
    "\n",
    "\n",
    "police_killings = pd.read_csv('shootings.csv', dtype={'race': 'category'}, encoding='latin-1')\n",
    "\n",
    "police_killings.head()"
   ]
  },
  {
   "cell_type": "code",
   "execution_count": 5,
   "metadata": {
    "ExecuteTime": {
     "end_time": "2020-08-11T18:58:06.219029Z",
     "start_time": "2020-08-11T18:58:06.202275Z"
    }
   },
   "outputs": [
    {
     "name": "stdout",
     "output_type": "stream",
     "text": [
      "50.58% of people killed by police are White\n",
      "26.52% of people killed by police are Black\n",
      "18.43% of people killed by police are Hispanic\n",
      "1.90% of people killed by police are Asian\n"
     ]
    }
   ],
   "source": [
    "police_killings['race'].value_counts()\n",
    "\n",
    "def get_percet_of_total(race):\n",
    "    return len(police_killings[police_killings['race'] == race].index) / len(police_killings.index)\n",
    "\n",
    "print('{:.2%} of people killed by police are White'.format(get_percet_of_total('White')))\n",
    "print('{:.2%} of people killed by police are Black'.format(get_percet_of_total('Black')))\n",
    "print('{:.2%} of people killed by police are Hispanic'.format(get_percet_of_total('Hispanic')))\n",
    "print('{:.2%} of people killed by police are Asian'.format(get_percet_of_total('Asian')))"
   ]
  },
  {
   "cell_type": "code",
   "execution_count": 3,
   "metadata": {
    "ExecuteTime": {
     "end_time": "2020-08-11T18:55:14.222382Z",
     "start_time": "2020-08-11T18:55:14.131335Z"
    }
   },
   "outputs": [
    {
     "name": "stdout",
     "output_type": "stream",
     "text": [
      "5.90% of white people that were unarmed when killed\n",
      "9.48% of black people that were unarmed when killed\n",
      "\n",
      "58.76% of white people that had a gun when killed\n",
      "59.01% of black people that had a gun when killed\n",
      "\n",
      "28.80% of white people that were reported to have a mental illness\n",
      "14.18% of black people that were reported to have a mental illness\n",
      "\n",
      "9.45% of white people that were killed with body camera on\n",
      "15.72% of black people that were killed with body camera on\n",
      "\n",
      "39.91 years old is the average age of a white person killed\n",
      "32.55 years old is the average age of a black person killed\n"
     ]
    }
   ],
   "source": [
    "def get_percet_of_column_by_value(race, weapon, column):\n",
    "    race_grouped = police_killings.groupby('race')\n",
    "    return (race_grouped.get_group(race)[column] == weapon).sum() / len(race_grouped.get_group(race).index)\n",
    "\n",
    "print('{:.2%} of white people that were unarmed when killed'.format(get_percet_of_column_by_value('White', 'Unarmed', 'arms_category')))\n",
    "print('{:.2%} of black people that were unarmed when killed'.format(get_percet_of_column_by_value('Black', 'Unarmed', 'arms_category')))\n",
    "\n",
    "print('\\n{:.2%} of white people that had a gun when killed'.format(get_percet_of_column_by_value('White', 'Guns', 'arms_category')))\n",
    "print('{:.2%} of black people that had a gun when killed'.format(get_percet_of_column_by_value('Black', 'Guns', 'arms_category')))\n",
    "\n",
    "print('\\n{:.2%} of white people that were reported to have a mental illness'.format(get_percet_of_column_by_value('White', True, 'signs_of_mental_illness')))\n",
    "print('{:.2%} of black people that were reported to have a mental illness'.format(get_percet_of_column_by_value('Black', True, 'signs_of_mental_illness')))\n",
    "\n",
    "print('\\n{:.2%} of white people that were killed with body camera on'.format(get_percet_of_column_by_value('White', True, 'body_camera')))\n",
    "print('{:.2%} of black people that were killed with body camera on'.format(get_percet_of_column_by_value('Black', True, 'body_camera')))\n",
    "\n",
    "\n",
    "race_grouped = police_killings.groupby('race')\n",
    "\n",
    "print('\\n{:.2f} years old is the average age of a white person killed'.format(race_grouped.get_group('White')['age'].mean()))\n",
    "print('{:.2f} years old is the average age of a black person killed'.format(race_grouped.get_group('Black')['age'].mean()))\n"
   ]
  },
  {
   "cell_type": "code",
   "execution_count": 4,
   "metadata": {
    "ExecuteTime": {
     "end_time": "2020-08-11T18:55:14.937463Z",
     "start_time": "2020-08-11T18:55:14.226250Z"
    }
   },
   "outputs": [
    {
     "data": {
      "text/plain": [
       "<seaborn.axisgrid.FacetGrid at 0x7ff778c29b50>"
      ]
     },
     "execution_count": 4,
     "metadata": {},
     "output_type": "execute_result"
    },
    {
     "data": {
      "image/png": "[encoded data removed]",
      "text/plain": [
       "<Figure size 506.125x360 with 1 Axes>"
      ]
     },
     "metadata": {
      "needs_background": "light"
     },
     "output_type": "display_data"
    }
   ],
   "source": [
    "races = police_killings.groupby(\"race\").groups\n",
    "\n",
    "top_weapons_by_race = police_killings.groupby(\"race\")[\"arms_category\"].value_counts(normalize=True)\n",
    "top_weapons_reset = top_weapons_by_race.groupby(\"race\").nlargest(5).reset_index(level=0, drop=True).reset_index(level=\"race\")\n",
    "top_weapons_reset[\"num_of_deaths\"] = top_weapons_reset.index\n",
    "top_weapons_reset.index = pd.RangeIndex(len(top_weapons_reset.index))\n",
    "top_weapons = top_weapons_reset.rename(columns={\"num_of_deaths\": \"arms_category\", \"arms_category\": \"num_of_deaths\"})\n",
    "\n",
    "sns.catplot(x=\"race\", y=\"num_of_deaths\", hue=\"arms_category\", data=top_weapons, kind=\"bar\")"
   ]
  }
 ],
 "metadata": {
  "kernelspec": {
   "display_name": "Python 3.7.6 64-bit ('base': conda)",
   "language": "python",
   "name": "python37664bitbasecondac90938fecaf946a2bc2b5c51d8f197f1"
  },
  "language_info": {
   "codemirror_mode": {
    "name": "ipython",
    "version": 3
   },
   "file_extension": ".py",
   "mimetype": "text/x-python",
   "name": "python",
   "nbconvert_exporter": "python",
   "pygments_lexer": "ipython3",
   "version": "3.7.6"
  }
 },
 "nbformat": 4,
 "nbformat_minor": 4
}
